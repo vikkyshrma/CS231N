{
  "nbformat": 4,
  "nbformat_minor": 0,
  "metadata": {
    "colab": {
      "name": "Untitled13.ipynb",
      "provenance": []
    },
    "kernelspec": {
      "name": "python3",
      "display_name": "Python 3"
    }
  },
  "cells": [
    {
      "cell_type": "code",
      "metadata": {
        "id": "vI5iRoOI7vtP",
        "colab_type": "code",
        "colab": {
          "base_uri": "https://localhost:8080/",
          "height": 118
        },
        "outputId": "b70e42e7-27a1-4fdf-fc67-ec0129340070"
      },
      "source": [
        "!git clone 'https://github.com/vikkyshrma/CS231N'"
      ],
      "execution_count": 2,
      "outputs": [
        {
          "output_type": "stream",
          "text": [
            "Cloning into 'CS231N'...\n",
            "remote: Enumerating objects: 86, done.\u001b[K\n",
            "remote: Counting objects: 100% (86/86), done.\u001b[K\n",
            "remote: Compressing objects: 100% (76/76), done.\u001b[K\n",
            "remote: Total 86 (delta 17), reused 0 (delta 0), pack-reused 0\u001b[K\n",
            "Unpacking objects: 100% (86/86), done.\n"
          ],
          "name": "stdout"
        }
      ]
    },
    {
      "cell_type": "code",
      "metadata": {
        "id": "wjNqyb1A7zzQ",
        "colab_type": "code",
        "colab": {
          "base_uri": "https://localhost:8080/",
          "height": 34
        },
        "outputId": "8e021320-2fab-4491-af87-90c1cfd805b7"
      },
      "source": [
        "%cd /content/CS231N/Assign1"
      ],
      "execution_count": 3,
      "outputs": [
        {
          "output_type": "stream",
          "text": [
            "/content/CS231N/Assign1\n"
          ],
          "name": "stdout"
        }
      ]
    },
    {
      "cell_type": "code",
      "metadata": {
        "id": "UiZRr-ow7Nwb",
        "colab_type": "code",
        "colab": {}
      },
      "source": [
        "import random\n",
        "import numpy as np\n",
        "from cs231n.data_utils import load_CIFAR10\n",
        "import matplotlib.pyplot as plt\n",
        "\n",
        "from __future__ import print_function\n",
        "\n",
        "%matplotlib inline\n",
        "plt.rcParams['figure.figsize'] = (10.0, 8.0) # set default size of plots\n",
        "plt.rcParams['image.interpolation'] = 'nearest'\n",
        "plt.rcParams['image.cmap'] = 'gray'\n",
        "\n",
        "# for auto-reloading extenrnal modules\n",
        "# see http://stackoverflow.com/questions/1907993/autoreload-of-modules-in-ipython\n",
        "%load_ext autoreload\n",
        "%autoreload 2"
      ],
      "execution_count": 0,
      "outputs": []
    },
    {
      "cell_type": "code",
      "metadata": {
        "id": "cKTWFa7y76kx",
        "colab_type": "code",
        "colab": {
          "base_uri": "https://localhost:8080/",
          "height": 50
        },
        "outputId": "e05d6958-75cb-4151-ddaf-1f4221b35669"
      },
      "source": [
        "%cd cs231n/datasets/\n",
        "!ls"
      ],
      "execution_count": 5,
      "outputs": [
        {
          "output_type": "stream",
          "text": [
            "/content/CS231N/Assign1/cs231n/datasets\n",
            "get_datasets.sh  ini\n"
          ],
          "name": "stdout"
        }
      ]
    },
    {
      "cell_type": "code",
      "metadata": {
        "id": "ALvfQcQB7-lc",
        "colab_type": "code",
        "colab": {
          "base_uri": "https://localhost:8080/",
          "height": 84
        },
        "outputId": "fccf368d-28a4-431f-fc83-2031951f82af"
      },
      "source": [
        "!more get_datasets.sh"
      ],
      "execution_count": 6,
      "outputs": [
        {
          "output_type": "stream",
          "text": [
            "# Get CIFAR10\n",
            "wget http://www.cs.toronto.edu/~kriz/cifar-10-python.tar.gz\n",
            "tar -xzvf cifar-10-python.tar.gz\n",
            "rm cifar-10-python.tar.gz \n"
          ],
          "name": "stdout"
        }
      ]
    },
    {
      "cell_type": "code",
      "metadata": {
        "id": "u6_Ba28d8BMY",
        "colab_type": "code",
        "colab": {
          "base_uri": "https://localhost:8080/",
          "height": 353
        },
        "outputId": "5d9d3255-22ca-4bec-dbd1-dec48a4f88c6"
      },
      "source": [
        "!sh get_datasets.sh"
      ],
      "execution_count": 8,
      "outputs": [
        {
          "output_type": "stream",
          "text": [
            "--2019-11-13 13:24:04--  http://www.cs.toronto.edu/~kriz/cifar-10-python.tar.gz\n",
            "Resolving www.cs.toronto.edu (www.cs.toronto.edu)... 128.100.3.30\n",
            "Connecting to www.cs.toronto.edu (www.cs.toronto.edu)|128.100.3.30|:80... connected.\n",
            "HTTP request sent, awaiting response... 200 OK\n",
            "Length: 170498071 (163M) [application/x-gzip]\n",
            "Saving to: ‘cifar-10-python.tar.gz.1’\n",
            "\n",
            "cifar-10-python.tar 100%[===================>] 162.60M  73.5MB/s    in 2.2s    \n",
            "\n",
            "2019-11-13 13:24:06 (73.5 MB/s) - ‘cifar-10-python.tar.gz.1’ saved [170498071/170498071]\n",
            "\n",
            "cifar-10-batches-py/\n",
            "cifar-10-batches-py/data_batch_4\n",
            "cifar-10-batches-py/readme.html\n",
            "cifar-10-batches-py/test_batch\n",
            "cifar-10-batches-py/data_batch_3\n",
            "cifar-10-batches-py/batches.meta\n",
            "cifar-10-batches-py/data_batch_2\n",
            "cifar-10-batches-py/data_batch_5\n",
            "cifar-10-batches-py/data_batch_1\n"
          ],
          "name": "stdout"
        }
      ]
    },
    {
      "cell_type": "markdown",
      "metadata": {
        "id": "wcwk9I3q9BT0",
        "colab_type": "text"
      },
      "source": [
        "data preprocessing"
      ]
    },
    {
      "cell_type": "code",
      "metadata": {
        "id": "ql115QO-8I83",
        "colab_type": "code",
        "colab": {
          "base_uri": "https://localhost:8080/",
          "height": 151
        },
        "outputId": "96fc64e0-5e63-49cd-862c-37631dc8f8e2"
      },
      "source": [
        "def get_CIFAR10_data(num_training=49000, num_validation=1000, num_test=1000, num_dev=500):\n",
        "    #data preprocessing\n",
        "    # Load the raw CIFAR-10 data\n",
        "    cifar10_dir = '/content/CS231N/Assign1/cs231n/datasets/cifar-10-batches-py'\n",
        "    \n",
        "    X_train, y_train, X_test, y_test = load_CIFAR10(cifar10_dir)\n",
        "    \n",
        "    # subsample the data\n",
        "    mask = list(range(num_training, num_training + num_validation))\n",
        "    X_val = X_train[mask]\n",
        "    y_val = y_train[mask]\n",
        "    mask = list(range(num_training))\n",
        "    X_train = X_train[mask]\n",
        "    y_train = y_train[mask]\n",
        "    mask = list(range(num_test))\n",
        "    X_test = X_test[mask]\n",
        "    y_test = y_test[mask]\n",
        "    mask = np.random.choice(num_training, num_dev, replace=False)\n",
        "    X_dev = X_train[mask]\n",
        "    y_dev = y_train[mask]\n",
        "    \n",
        "    # Preprocessing: reshape the image data into rows\n",
        "    X_train = np.reshape(X_train, (X_train.shape[0], -1))\n",
        "    X_val = np.reshape(X_val, (X_val.shape[0], -1))\n",
        "    X_test = np.reshape(X_test, (X_test.shape[0], -1))\n",
        "    X_dev = np.reshape(X_dev, (X_dev.shape[0], -1))\n",
        "    \n",
        "    # Normalize the data: subtract the mean image\n",
        "    mean_image = np.mean(X_train, axis = 0)\n",
        "    X_train -= mean_image\n",
        "    X_val -= mean_image\n",
        "    X_test -= mean_image\n",
        "    X_dev -= mean_image\n",
        "    \n",
        "    # add bias dimension and transform into columns\n",
        "    X_train = np.hstack([X_train, np.ones((X_train.shape[0], 1))])\n",
        "    X_val = np.hstack([X_val, np.ones((X_val.shape[0], 1))])\n",
        "    X_test = np.hstack([X_test, np.ones((X_test.shape[0], 1))])\n",
        "    X_dev = np.hstack([X_dev, np.ones((X_dev.shape[0], 1))])\n",
        "    \n",
        "    return X_train, y_train, X_val, y_val, X_test, y_test, X_dev, y_dev\n",
        "\n",
        "\n",
        "\n",
        "try:\n",
        "   del X_train, y_train\n",
        "   del X_test, y_test\n",
        "   print('Clear previously loaded data.')\n",
        "except:\n",
        "   pass\n",
        "\n",
        "X_train, y_train, X_val, y_val, X_test, y_test, X_dev, y_dev = get_CIFAR10_data()\n",
        "print('Train data shape: ', X_train.shape)\n",
        "print('Train labels shape: ', y_train.shape)\n",
        "print('Validation data shape: ', X_val.shape)\n",
        "print('Validation labels shape: ', y_val.shape)\n",
        "print('Test data shape: ', X_test.shape)\n",
        "print('Test labels shape: ', y_test.shape)\n",
        "print('dev data shape: ', X_dev.shape)\n",
        "print('dev labels shape: ', y_dev.shape)"
      ],
      "execution_count": 10,
      "outputs": [
        {
          "output_type": "stream",
          "text": [
            "Train data shape:  (49000, 3073)\n",
            "Train labels shape:  (49000,)\n",
            "Validation data shape:  (1000, 3073)\n",
            "Validation labels shape:  (1000,)\n",
            "Test data shape:  (1000, 3073)\n",
            "Test labels shape:  (1000,)\n",
            "dev data shape:  (500, 3073)\n",
            "dev labels shape:  (500,)\n"
          ],
          "name": "stdout"
        }
      ]
    },
    {
      "cell_type": "code",
      "metadata": {
        "id": "i9TxCxry9LAv",
        "colab_type": "code",
        "colab": {
          "base_uri": "https://localhost:8080/",
          "height": 50
        },
        "outputId": "6a2d8f27-2ec5-4848-ff7a-5d8f414641b0"
      },
      "source": [
        "from cs231n.classifier.softmax import softmax_loss_naive\n",
        "import time\n",
        "\n",
        "# random softmax weight matrix and compute the loss.\n",
        "W = np.random.randn(3073, 10) * 0.0001\n",
        "loss, grad = softmax_loss_naive(W, X_dev, y_dev, 0.0)\n",
        "\n",
        "# As a rough sanity check, our loss should be something close to -log(0.1).\n",
        "print('loss: %f' % loss)\n",
        "print('sanity check: %f' % (-np.log(0.1)))"
      ],
      "execution_count": 13,
      "outputs": [
        {
          "output_type": "stream",
          "text": [
            "loss: 2.329765\n",
            "sanity check: 2.302585\n"
          ],
          "name": "stdout"
        }
      ]
    },
    {
      "cell_type": "code",
      "metadata": {
        "id": "verrbGGA_U6v",
        "colab_type": "code",
        "colab": {
          "base_uri": "https://localhost:8080/",
          "height": 370
        },
        "outputId": "ddaf1e5c-5337-4da0-a767-5bc560010545"
      },
      "source": [
        "loss, grad = softmax_loss_naive(W, X_dev, y_dev, 0.0)\n",
        "\n",
        "# As we did for the SVM, use numeric gradient checking as a debugging tool.\n",
        "# The numeric gradient should be close to the analytic gradient.\n",
        "from cs231n.gradient_check import grad_check_sparse\n",
        "f = lambda w: softmax_loss_naive(w, X_dev, y_dev, 0.0)[0]\n",
        "grad_numerical = grad_check_sparse(f, W, grad, 10)\n",
        "\n",
        "# similar to SVM case, do another gradient check with regularization\n",
        "print('Regularization is turned on')\n",
        "loss, grad = softmax_loss_naive(W, X_dev, y_dev, 5e1)\n",
        "f = lambda w: softmax_loss_naive(w, X_dev, y_dev, 5e1)[0]\n",
        "grad_numerical = grad_check_sparse(f, W, grad, 10)"
      ],
      "execution_count": 14,
      "outputs": [
        {
          "output_type": "stream",
          "text": [
            "numerical: 0.338218 analytic: 0.338218, relative error: 1.874117e-07\n",
            "numerical: -0.386114 analytic: -0.386114, relative error: 1.105347e-07\n",
            "numerical: -0.496625 analytic: -0.496625, relative error: 1.333390e-07\n",
            "numerical: -0.325533 analytic: -0.325533, relative error: 5.871346e-08\n",
            "numerical: 2.889610 analytic: 2.889610, relative error: 1.762113e-08\n",
            "numerical: -1.259604 analytic: -1.259604, relative error: 2.664929e-08\n",
            "numerical: -0.984334 analytic: -0.984334, relative error: 9.993967e-09\n",
            "numerical: -1.848104 analytic: -1.848104, relative error: 1.707579e-08\n",
            "numerical: -2.503089 analytic: -2.503089, relative error: 6.055911e-09\n",
            "numerical: 1.612131 analytic: 1.612131, relative error: 1.140904e-09\n",
            "Regularization is turned on\n",
            "numerical: 0.403661 analytic: 0.403661, relative error: 2.946093e-08\n",
            "numerical: -1.899304 analytic: -1.899304, relative error: 1.082306e-08\n",
            "numerical: 1.210321 analytic: 1.210321, relative error: 7.752039e-08\n",
            "numerical: -1.708359 analytic: -1.708359, relative error: 7.677660e-09\n",
            "numerical: 1.756200 analytic: 1.756200, relative error: 8.751501e-09\n",
            "numerical: -1.727174 analytic: -1.727174, relative error: 3.646194e-08\n",
            "numerical: -2.528642 analytic: -2.528643, relative error: 2.363958e-08\n",
            "numerical: 1.852336 analytic: 1.852336, relative error: 1.448332e-08\n",
            "numerical: 1.105998 analytic: 1.105998, relative error: 6.907264e-08\n",
            "numerical: 2.800181 analytic: 2.800181, relative error: 2.814485e-08\n"
          ],
          "name": "stdout"
        }
      ]
    },
    {
      "cell_type": "code",
      "metadata": {
        "id": "8-v9-B5t_9lC",
        "colab_type": "code",
        "colab": {
          "base_uri": "https://localhost:8080/",
          "height": 84
        },
        "outputId": "cea1a838-19c5-4094-acba-62767a862e16"
      },
      "source": [
        "tic = time.time()\n",
        "loss_naive, grad_naive = softmax_loss_naive(W, X_dev, y_dev, 0.000005)\n",
        "toc = time.time()\n",
        "print('naive loss: %e computed in %fs' % (loss_naive, toc - tic))\n",
        "\n",
        "from cs231n.classifier.softmax import softmax_loss_vectorized\n",
        "tic = time.time()\n",
        "loss_vectorized, grad_vectorized = softmax_loss_vectorized(W, X_dev, y_dev, 0.000005)\n",
        "toc = time.time()\n",
        "print('vectorized loss: %e computed in %fs' % (loss_vectorized, toc - tic))\n",
        "\n",
        "# As we did for the SVM, we use the Frobenius norm to compare the two versions\n",
        "# of the gradient.\n",
        "grad_difference = np.linalg.norm(grad_naive - grad_vectorized, ord='fro')\n",
        "print('Loss difference: %f' % np.abs(loss_naive - loss_vectorized))\n",
        "print('Gradient difference: %f' % grad_difference)"
      ],
      "execution_count": 16,
      "outputs": [
        {
          "output_type": "stream",
          "text": [
            "naive loss: 2.329765e+00 computed in 0.154729s\n",
            "vectorized loss: 2.329765e+00 computed in 0.020641s\n",
            "Loss difference: 0.000000\n",
            "Gradient difference: 0.000000\n"
          ],
          "name": "stdout"
        }
      ]
    },
    {
      "cell_type": "code",
      "metadata": {
        "id": "V7ZWUsw8AWIP",
        "colab_type": "code",
        "colab": {
          "base_uri": "https://localhost:8080/",
          "height": 1000
        },
        "outputId": "59880616-bb48-473b-b8fd-91e6ef56b9df"
      },
      "source": [
        "\n",
        "# Use the validation set to tune hyperparameters (regularization strength and\n",
        "# learning rate)\n",
        "from cs231n.classifier import Softmax\n",
        "results = {}\n",
        "best_val = -1\n",
        "best_softmax = None\n",
        "learning_rates = [5e-7, 8e-7, 1e-6, 3e-6]\n",
        "regularization_strengths = [5e2, 1e3, 5e3]\n",
        "\n",
        "################################################################################\n",
        "# TODO:                                                                        #\n",
        "# Use the validation set to set the learning rate and regularization strength. #\n",
        "# This should be identical to the validation that you did for the SVM; save    #\n",
        "# the best trained softmax classifer in best_softmax.                          #\n",
        "################################################################################\n",
        "num_iters = 1200\n",
        "hyperparameters = [(a, b) for a in learning_rates for b in regularization_strengths]\n",
        "verbose = True\n",
        "\n",
        "for rate, strength in hyperparameters: \n",
        "    softmax = Softmax()\n",
        "    if verbose:\n",
        "        print('rate: {}, strength {}'.format(rate, strength))\n",
        "    softmax.train(X_train, y_train, learning_rate=rate, reg=strength,\n",
        "                  num_iters=num_iters, verbose=verbose)\n",
        "    y_train_pred = softmax.predict(X_train)\n",
        "    y_val_pred = softmax.predict(X_val)\n",
        "    train_accuracy = np.mean(y_train == y_train_pred)\n",
        "    val_accuracy = np.mean(y_val == y_val_pred)\n",
        "    results[(rate, strength)] = (train_accuracy, val_accuracy)\n",
        "    if val_accuracy > best_val:\n",
        "        best_val = val_accuracy\n",
        "        best_softmax = softmax"
      ],
      "execution_count": 17,
      "outputs": [
        {
          "output_type": "stream",
          "text": [
            "rate: 5e-07, strength 500.0\n",
            "iteration 0 / 1200: loss 21.667736\n",
            "iteration 100 / 1200: loss 16.936178\n",
            "iteration 200 / 1200: loss 15.222659\n",
            "iteration 300 / 1200: loss 13.801108\n",
            "iteration 400 / 1200: loss 12.389914\n",
            "iteration 500 / 1200: loss 11.351852\n",
            "iteration 600 / 1200: loss 10.323966\n",
            "iteration 700 / 1200: loss 9.497238\n",
            "iteration 800 / 1200: loss 8.691885\n",
            "iteration 900 / 1200: loss 8.006234\n",
            "iteration 1000 / 1200: loss 7.484672\n",
            "iteration 1100 / 1200: loss 6.848983\n",
            "rate: 5e-07, strength 1000.0\n",
            "iteration 0 / 1200: loss 35.762204\n",
            "iteration 100 / 1200: loss 27.845784\n",
            "iteration 200 / 1200: loss 22.832156\n",
            "iteration 300 / 1200: loss 18.782613\n",
            "iteration 400 / 1200: loss 15.776452\n",
            "iteration 500 / 1200: loss 12.982752\n",
            "iteration 600 / 1200: loss 10.917450\n",
            "iteration 700 / 1200: loss 9.392028\n",
            "iteration 800 / 1200: loss 7.846827\n",
            "iteration 900 / 1200: loss 6.856049\n",
            "iteration 1000 / 1200: loss 5.906697\n",
            "iteration 1100 / 1200: loss 5.121521\n",
            "rate: 5e-07, strength 5000.0\n",
            "iteration 0 / 1200: loss 161.228125\n",
            "iteration 100 / 1200: loss 58.717152\n",
            "iteration 200 / 1200: loss 22.591878\n",
            "iteration 300 / 1200: loss 9.495233\n",
            "iteration 400 / 1200: loss 4.693592\n",
            "iteration 500 / 1200: loss 3.000886\n",
            "iteration 600 / 1200: loss 2.289120\n",
            "iteration 700 / 1200: loss 2.110346\n",
            "iteration 800 / 1200: loss 1.934365\n",
            "iteration 900 / 1200: loss 1.968842\n",
            "iteration 1000 / 1200: loss 1.930775\n",
            "iteration 1100 / 1200: loss 1.973289\n",
            "rate: 8e-07, strength 500.0\n",
            "iteration 0 / 1200: loss 22.194689\n",
            "iteration 100 / 1200: loss 15.814900\n",
            "iteration 200 / 1200: loss 13.477600\n",
            "iteration 300 / 1200: loss 11.720848\n",
            "iteration 400 / 1200: loss 9.860191\n",
            "iteration 500 / 1200: loss 8.509066\n",
            "iteration 600 / 1200: loss 7.538610\n",
            "iteration 700 / 1200: loss 6.880772\n",
            "iteration 800 / 1200: loss 5.894975\n",
            "iteration 900 / 1200: loss 5.326833\n",
            "iteration 1000 / 1200: loss 4.709685\n",
            "iteration 1100 / 1200: loss 4.364688\n",
            "rate: 8e-07, strength 1000.0\n",
            "iteration 0 / 1200: loss 36.481926\n",
            "iteration 100 / 1200: loss 24.634020\n",
            "iteration 200 / 1200: loss 18.103269\n",
            "iteration 300 / 1200: loss 13.498213\n",
            "iteration 400 / 1200: loss 10.156308\n",
            "iteration 500 / 1200: loss 7.976457\n",
            "iteration 600 / 1200: loss 6.045455\n",
            "iteration 700 / 1200: loss 4.949747\n",
            "iteration 800 / 1200: loss 4.128812\n",
            "iteration 900 / 1200: loss 3.463909\n",
            "iteration 1000 / 1200: loss 2.922426\n",
            "iteration 1100 / 1200: loss 2.604228\n",
            "rate: 8e-07, strength 5000.0\n",
            "iteration 0 / 1200: loss 159.895322\n",
            "iteration 100 / 1200: loss 32.636990\n",
            "iteration 200 / 1200: loss 8.028112\n",
            "iteration 300 / 1200: loss 3.114211\n",
            "iteration 400 / 1200: loss 2.228103\n",
            "iteration 500 / 1200: loss 2.031701\n",
            "iteration 600 / 1200: loss 1.947223\n",
            "iteration 700 / 1200: loss 1.918281\n",
            "iteration 800 / 1200: loss 2.050116\n",
            "iteration 900 / 1200: loss 1.912126\n",
            "iteration 1000 / 1200: loss 1.846745\n",
            "iteration 1100 / 1200: loss 1.964583\n",
            "rate: 1e-06, strength 500.0\n",
            "iteration 0 / 1200: loss 20.973012\n",
            "iteration 100 / 1200: loss 15.107064\n",
            "iteration 200 / 1200: loss 12.624645\n",
            "iteration 300 / 1200: loss 10.297069\n",
            "iteration 400 / 1200: loss 8.676635\n",
            "iteration 500 / 1200: loss 7.409754\n",
            "iteration 600 / 1200: loss 6.372144\n",
            "iteration 700 / 1200: loss 5.552970\n",
            "iteration 800 / 1200: loss 4.766626\n",
            "iteration 900 / 1200: loss 4.263099\n",
            "iteration 1000 / 1200: loss 3.673702\n",
            "iteration 1100 / 1200: loss 3.402338\n",
            "rate: 1e-06, strength 1000.0\n",
            "iteration 0 / 1200: loss 37.064913\n",
            "iteration 100 / 1200: loss 22.587462\n",
            "iteration 200 / 1200: loss 15.321518\n",
            "iteration 300 / 1200: loss 10.809311\n",
            "iteration 400 / 1200: loss 7.751159\n",
            "iteration 500 / 1200: loss 5.798976\n",
            "iteration 600 / 1200: loss 4.446435\n",
            "iteration 700 / 1200: loss 3.652474\n",
            "iteration 800 / 1200: loss 2.984745\n",
            "iteration 900 / 1200: loss 2.585677\n",
            "iteration 1000 / 1200: loss 2.343186\n",
            "iteration 1100 / 1200: loss 2.121294\n",
            "rate: 1e-06, strength 5000.0\n",
            "iteration 0 / 1200: loss 160.394540\n",
            "iteration 100 / 1200: loss 22.462754\n",
            "iteration 200 / 1200: loss 4.680480\n",
            "iteration 300 / 1200: loss 2.260091\n",
            "iteration 400 / 1200: loss 1.962997\n",
            "iteration 500 / 1200: loss 2.014094\n",
            "iteration 600 / 1200: loss 1.977505\n",
            "iteration 700 / 1200: loss 1.797661\n",
            "iteration 800 / 1200: loss 1.982423\n",
            "iteration 900 / 1200: loss 2.086952\n",
            "iteration 1000 / 1200: loss 2.021542\n",
            "iteration 1100 / 1200: loss 1.912238\n",
            "rate: 3e-06, strength 500.0\n",
            "iteration 0 / 1200: loss 20.542385\n",
            "iteration 100 / 1200: loss 10.309787\n",
            "iteration 200 / 1200: loss 6.395001\n",
            "iteration 300 / 1200: loss 4.195534\n",
            "iteration 400 / 1200: loss 3.072609\n",
            "iteration 500 / 1200: loss 2.594756\n",
            "iteration 600 / 1200: loss 2.174752\n",
            "iteration 700 / 1200: loss 2.088048\n",
            "iteration 800 / 1200: loss 1.962519\n",
            "iteration 900 / 1200: loss 1.814014\n",
            "iteration 1000 / 1200: loss 1.734758\n",
            "iteration 1100 / 1200: loss 1.947506\n",
            "rate: 3e-06, strength 1000.0\n",
            "iteration 0 / 1200: loss 37.084168\n",
            "iteration 100 / 1200: loss 11.157142\n",
            "iteration 200 / 1200: loss 4.513549\n",
            "iteration 300 / 1200: loss 2.675336\n",
            "iteration 400 / 1200: loss 2.165138\n",
            "iteration 500 / 1200: loss 1.949462\n",
            "iteration 600 / 1200: loss 1.873220\n",
            "iteration 700 / 1200: loss 2.006074\n",
            "iteration 800 / 1200: loss 1.940057\n",
            "iteration 900 / 1200: loss 1.878341\n",
            "iteration 1000 / 1200: loss 1.999703\n",
            "iteration 1100 / 1200: loss 1.815214\n",
            "rate: 3e-06, strength 5000.0\n",
            "iteration 0 / 1200: loss 158.976378\n",
            "iteration 100 / 1200: loss 2.409601\n",
            "iteration 200 / 1200: loss 1.975054\n",
            "iteration 300 / 1200: loss 2.105884\n",
            "iteration 400 / 1200: loss 2.034758\n",
            "iteration 500 / 1200: loss 1.936708\n",
            "iteration 600 / 1200: loss 2.000356\n",
            "iteration 700 / 1200: loss 1.920146\n",
            "iteration 800 / 1200: loss 2.034989\n",
            "iteration 900 / 1200: loss 2.136048\n",
            "iteration 1000 / 1200: loss 2.010073\n",
            "iteration 1100 / 1200: loss 2.023042\n"
          ],
          "name": "stdout"
        }
      ]
    },
    {
      "cell_type": "code",
      "metadata": {
        "id": "bCh3hbZ9BTac",
        "colab_type": "code",
        "colab": {
          "base_uri": "https://localhost:8080/",
          "height": 235
        },
        "outputId": "b042b46e-8d2a-4b88-db96-b88569826f29"
      },
      "source": [
        "for lr, reg in sorted(results):\n",
        "    train_accuracy, val_accuracy = results[(lr, reg)]\n",
        "    print('lr %e reg %e train accuracy: %f val accuracy: %f' % (\n",
        "                lr, reg, train_accuracy, val_accuracy))\n",
        "    \n",
        "print('best validation accuracy achieved during cross-validation: %f' % best_val)"
      ],
      "execution_count": 18,
      "outputs": [
        {
          "output_type": "stream",
          "text": [
            "lr 5.000000e-07 reg 5.000000e+02 train accuracy: 0.346776 val accuracy: 0.336000\n",
            "lr 5.000000e-07 reg 1.000000e+03 train accuracy: 0.376429 val accuracy: 0.367000\n",
            "lr 5.000000e-07 reg 5.000000e+03 train accuracy: 0.367694 val accuracy: 0.379000\n",
            "lr 8.000000e-07 reg 5.000000e+02 train accuracy: 0.383878 val accuracy: 0.379000\n",
            "lr 8.000000e-07 reg 1.000000e+03 train accuracy: 0.391571 val accuracy: 0.396000\n",
            "lr 8.000000e-07 reg 5.000000e+03 train accuracy: 0.367571 val accuracy: 0.384000\n",
            "lr 1.000000e-06 reg 5.000000e+02 train accuracy: 0.396082 val accuracy: 0.398000\n",
            "lr 1.000000e-06 reg 1.000000e+03 train accuracy: 0.398612 val accuracy: 0.394000\n",
            "lr 1.000000e-06 reg 5.000000e+03 train accuracy: 0.360327 val accuracy: 0.373000\n",
            "lr 3.000000e-06 reg 5.000000e+02 train accuracy: 0.391694 val accuracy: 0.382000\n",
            "lr 3.000000e-06 reg 1.000000e+03 train accuracy: 0.391878 val accuracy: 0.397000\n",
            "lr 3.000000e-06 reg 5.000000e+03 train accuracy: 0.352857 val accuracy: 0.365000\n",
            "best validation accuracy achieved during cross-validation: 0.398000\n"
          ],
          "name": "stdout"
        }
      ]
    },
    {
      "cell_type": "code",
      "metadata": {
        "id": "-75wEQe5CZnj",
        "colab_type": "code",
        "colab": {
          "base_uri": "https://localhost:8080/",
          "height": 34
        },
        "outputId": "37e514c6-c014-41bb-9ad7-113b735d92ca"
      },
      "source": [
        "y_test_pred = best_softmax.predict(X_test)\n",
        "test_accuracy = np.mean(y_test == y_test_pred)\n",
        "print('softmax on raw pixels final test set accuracy: %f' % (test_accuracy, ))"
      ],
      "execution_count": 19,
      "outputs": [
        {
          "output_type": "stream",
          "text": [
            "softmax on raw pixels final test set accuracy: 0.369000\n"
          ],
          "name": "stdout"
        }
      ]
    },
    {
      "cell_type": "code",
      "metadata": {
        "id": "QEybHBgUCeSZ",
        "colab_type": "code",
        "colab": {
          "base_uri": "https://localhost:8080/",
          "height": 380
        },
        "outputId": "2b202be5-d2c6-4fa9-9c44-58fa1b16e95f"
      },
      "source": [
        "w = best_softmax.W[:-1,:] # strip out the bias\n",
        "w = w.reshape(32, 32, 3, 10)\n",
        "\n",
        "w_min, w_max = np.min(w), np.max(w)\n",
        "\n",
        "classes = ['plane', 'car', 'bird', 'cat', 'deer', 'dog', 'frog', 'horse', 'ship', 'truck']\n",
        "for i in range(10):\n",
        "    plt.subplot(2, 5, i + 1)\n",
        "    \n",
        "    # Rescale the weights to be between 0 and 255\n",
        "    wimg = 255.0 * (w[:, :, :, i].squeeze() - w_min) / (w_max - w_min)\n",
        "    plt.imshow(wimg.astype('uint8'))\n",
        "    plt.axis('off')\n",
        "    plt.title(classes[i])"
      ],
      "execution_count": 20,
      "outputs": [
        {
          "output_type": "display_data",
          "data": {
            "image/png": "[encoded data removed]",
            "text/plain": [
              "<Figure size 720x576 with 10 Axes>"
            ]
          },
          "metadata": {
            "tags": []
          }
        }
      ]
    }
  ]
}